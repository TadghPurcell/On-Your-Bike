{
 "cells": [
  {
   "cell_type": "code",
   "execution_count": 1,
   "metadata": {},
   "outputs": [],
   "source": [
    "import sqlalchemy as sqla\n",
    "from sqlalchemy import create_engine\n",
    "from sqlalchemy.exc import SQLAlchemyError\n",
    "import MySQLdb\n",
    "import mysql.connector\n",
    "from mysql.connector import Error\n",
    "import traceback\n",
    "import glob\n",
    "import os\n",
    "import pprint\n",
    "import json\n",
    "import requests\n",
    "import time\n",
    "from IPython.display import display"
   ]
  },
  {
   "cell_type": "code",
   "execution_count": 2,
   "metadata": {},
   "outputs": [],
   "source": [
    "# with open('../data_collection/dbinfo.json') as f:\n",
    "#     db_info = json.load(f)\n",
    "# USER = db_info['dbConnection']['USER']\n",
    "# PASSWORD = db_info['dbConnection']['PASSWORD']\n",
    "# URI = db_info['dbConnection']['URI']\n",
    "# PORT = db_info['dbConnection']['PORT']\n",
    "# DB = db_info['dbConnection']['DB']\n",
    "\n",
    "# engine = create_engine('mysql+mysqlconnector://{}:{}@{}:{}/{}'.format(USER, PASSWORD, URI, PORT, DB), echo=True)\n",
    "# # engine = create_engine('mysql+mysqlconnector://{}:{}@{}/{}'.format(USER, PASSWORD, URI, DB), echo=True)\n",
    "# print(engine.url)\n",
    "# connection = engine.connect()\n",
    "# print(connection)\n",
    "# try:\n",
    "#     print(\"success\")\n",
    "# except SQLAlchemyError as err:\n",
    "#     print(\"Error: \", err.__cause__)"
   ]
  },
  {
   "cell_type": "code",
   "execution_count": 3,
   "metadata": {},
   "outputs": [
    {
     "name": "stdout",
     "output_type": "stream",
     "text": [
      "Error while connecting to MySQL: 2003 (HY000): Can't connect to MySQL server on 'db-on-your-bike.cfcwwwioiyxi.eu-west-1.rds.amazonaws.com:3306' (110)\n"
     ]
    },
    {
     "ename": "UnboundLocalError",
     "evalue": "cannot access local variable 'connection' where it is not associated with a value",
     "output_type": "error",
     "traceback": [
      "\u001b[0;31m---------------------------------------------------------------------------\u001b[0m",
      "\u001b[0;31mUnboundLocalError\u001b[0m                         Traceback (most recent call last)",
      "Cell \u001b[0;32mIn[3], line 37\u001b[0m\n\u001b[1;32m     34\u001b[0m             \u001b[38;5;28mprint\u001b[39m(\u001b[38;5;124m\"\u001b[39m\u001b[38;5;124mMySQL connection is closed\u001b[39m\u001b[38;5;124m\"\u001b[39m)\n\u001b[1;32m     36\u001b[0m \u001b[38;5;66;03m# Run the function to connect to your database\u001b[39;00m\n\u001b[0;32m---> 37\u001b[0m \u001b[43mconnect_to_database\u001b[49m\u001b[43m(\u001b[49m\u001b[43m)\u001b[49m\n",
      "Cell \u001b[0;32mIn[3], line 31\u001b[0m, in \u001b[0;36mconnect_to_database\u001b[0;34m()\u001b[0m\n\u001b[1;32m     29\u001b[0m     \u001b[38;5;28mprint\u001b[39m(\u001b[38;5;124mf\u001b[39m\u001b[38;5;124m\"\u001b[39m\u001b[38;5;124mError while connecting to MySQL: \u001b[39m\u001b[38;5;132;01m{\u001b[39;00me\u001b[38;5;132;01m}\u001b[39;00m\u001b[38;5;124m\"\u001b[39m)\n\u001b[1;32m     30\u001b[0m \u001b[38;5;28;01mfinally\u001b[39;00m:\n\u001b[0;32m---> 31\u001b[0m     \u001b[38;5;28;01mif\u001b[39;00m \u001b[43mconnection\u001b[49m\u001b[38;5;241m.\u001b[39mis_connected():\n\u001b[1;32m     32\u001b[0m         cursor\u001b[38;5;241m.\u001b[39mclose()\n\u001b[1;32m     33\u001b[0m         connection\u001b[38;5;241m.\u001b[39mclose()\n",
      "\u001b[0;31mUnboundLocalError\u001b[0m: cannot access local variable 'connection' where it is not associated with a value"
     ]
    }
   ],
   "source": [
    "def connect_to_database():\n",
    "    with open('../data_collection/dbinfo.json') as f:\n",
    "        db_info = json.load(f)\n",
    "    USER = db_info['dbConnection']['USER']\n",
    "    PASSWORD = db_info['dbConnection']['PASSWORD']\n",
    "    URI = db_info['dbConnection']['URI']\n",
    "    PORT = db_info['dbConnection']['PORT']\n",
    "    DB = db_info['dbConnection']['DB']\n",
    "\n",
    "    try:\n",
    "        connection = mysql.connector.connect(\n",
    "            host=URI,\n",
    "            port=PORT,\n",
    "            user=USER,\n",
    "            password=PASSWORD,\n",
    "            database=DB\n",
    "        )\n",
    "\n",
    "        if connection.is_connected():\n",
    "            db_info = connection.get_server_info()\n",
    "            print(f\"Successfully connected to MySQL Server version {db_info}\")\n",
    "            cursor = connection.cursor()\n",
    "            cursor.execute(\"SELECT DATABASE();\")\n",
    "            db_name = cursor.fetchone()\n",
    "            print(f\"You're connected to database: {db_name}\")\n",
    "            # You can add your database operations here.\n",
    "\n",
    "    except Error as e:\n",
    "        print(f\"Error while connecting to MySQL: {e}\")\n",
    "    finally:\n",
    "        if connection.is_connected():\n",
    "            cursor.close()\n",
    "            connection.close()\n",
    "            print(\"MySQL connection is closed\")\n",
    "\n",
    "# Run the function to connect to your database\n",
    "connect_to_database()"
   ]
  }
 ],
 "metadata": {
  "kernelspec": {
   "display_name": "comp30830",
   "language": "python",
   "name": "python3"
  },
  "language_info": {
   "codemirror_mode": {
    "name": "ipython",
    "version": 3
   },
   "file_extension": ".py",
   "mimetype": "text/x-python",
   "name": "python",
   "nbconvert_exporter": "python",
   "pygments_lexer": "ipython3",
   "version": "3.12.1"
  }
 },
 "nbformat": 4,
 "nbformat_minor": 2
}
