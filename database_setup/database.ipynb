{
 "cells": [
  {
   "cell_type": "code",
   "execution_count": 1,
   "metadata": {},
   "outputs": [],
   "source": [
    "from sqlalchemy import create_engine\n",
    "from sqlalchemy.exc import SQLAlchemyError\n",
    "import MySQLdb\n",
    "import traceback\n",
    "import glob\n",
    "import os\n",
    "import pprint\n",
    "import json\n",
    "import requests\n",
    "import time\n",
    "from IPython.display import display\n",
    "\n",
    "with open('../data_collection/dbinfo.json') as f:\n",
    "    db_info = json.load(f)\n",
    "USER = db_info['dbConnection']['USER']\n",
    "PASSWORD = db_info['dbConnection']['PASSWORD']\n",
    "URI = db_info['dbConnection']['URI']\n",
    "PORT = db_info['dbConnection']['PORT']\n",
    "DB = db_info['dbConnection']['DB']\n",
    "\n",
    "engine = create_engine('mysql://{}:{}@{}:{}/{}'.format(USER, PASSWORD, URI, PORT, DB), echo=True)\n",
    "print(engine.url)\n",
    "try:\n",
    "    connection = engine.connect()\n",
    "    print(\"success\")\n",
    "except SQLAlchemyError as err:\n",
    "    print(\"Error: \", err.__cause__)"
   ]
  }
 ],
 "metadata": {
  "kernelspec": {
   "display_name": "comp30830",
   "language": "python",
   "name": "python3"
  },
  "language_info": {
   "codemirror_mode": {
    "name": "ipython",
    "version": 3
   },
   "file_extension": ".py",
   "mimetype": "text/x-python",
   "name": "python",
   "nbconvert_exporter": "python",
   "pygments_lexer": "ipython3",
   "version": "3.12.1"
  }
 },
 "nbformat": 4,
 "nbformat_minor": 2
}
