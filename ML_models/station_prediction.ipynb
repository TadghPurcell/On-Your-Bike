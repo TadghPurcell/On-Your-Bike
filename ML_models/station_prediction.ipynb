{
 "cells": [
  {
   "cell_type": "code",
   "execution_count": 2,
   "metadata": {},
   "outputs": [],
   "source": [
    "# Append web folder to system path\n",
    "import sys\n",
    "sys.path.append('../web')"
   ]
  },
  {
   "cell_type": "code",
   "execution_count": 3,
   "metadata": {},
   "outputs": [],
   "source": [
    "from db_config import Base\n",
    "from Database import Station, Availability, Weather\n",
    "from sqlalchemy import create_engine, func, Column, String, Integer, Double, Boolean\n",
    "from sqlalchemy.orm import sessionmaker\n",
    "import json\n",
    "import sys"
   ]
  },
  {
   "cell_type": "code",
   "execution_count": 4,
   "metadata": {},
   "outputs": [],
   "source": [
    "import pandas as pd\n",
    "import matplotlib.pyplot as plt\n",
    "import numpy as np\n",
    "import pickle\n",
    "from sklearn.linear_model import LinearRegression\n",
    "from sklearn.preprocessing import PolynomialFeatures\n",
    "from sklearn.model_selection import train_test_split"
   ]
  },
  {
   "cell_type": "code",
   "execution_count": 5,
   "metadata": {},
   "outputs": [
    {
     "name": "stdout",
     "output_type": "stream",
     "text": [
      "2024-03-29 15:51:18,417 INFO sqlalchemy.engine.Engine SELECT DATABASE()\n",
      "2024-03-29 15:51:18,422 INFO sqlalchemy.engine.Engine [raw sql] {}\n",
      "2024-03-29 15:51:18,468 INFO sqlalchemy.engine.Engine SELECT @@sql_mode\n",
      "2024-03-29 15:51:18,468 INFO sqlalchemy.engine.Engine [raw sql] {}\n",
      "2024-03-29 15:51:18,483 INFO sqlalchemy.engine.Engine SELECT @@lower_case_table_names\n",
      "2024-03-29 15:51:18,483 INFO sqlalchemy.engine.Engine [raw sql] {}\n",
      "2024-03-29 15:51:18,510 INFO sqlalchemy.engine.Engine BEGIN (implicit)\n",
      "2024-03-29 15:51:18,513 INFO sqlalchemy.engine.Engine DESCRIBE `db_on_your_bike`.`stations`\n",
      "2024-03-29 15:51:18,514 INFO sqlalchemy.engine.Engine [raw sql] {}\n",
      "2024-03-29 15:51:18,529 INFO sqlalchemy.engine.Engine DESCRIBE `db_on_your_bike`.`availability`\n",
      "2024-03-29 15:51:18,530 INFO sqlalchemy.engine.Engine [raw sql] {}\n",
      "2024-03-29 15:51:18,545 INFO sqlalchemy.engine.Engine DESCRIBE `db_on_your_bike`.`weather`\n",
      "2024-03-29 15:51:18,545 INFO sqlalchemy.engine.Engine [raw sql] {}\n",
      "2024-03-29 15:51:18,562 INFO sqlalchemy.engine.Engine COMMIT\n",
      "connected\n"
     ]
    }
   ],
   "source": [
    "# Get the db_info\n",
    "with open('../dbinfo.json') as f:\n",
    "    db_info = json.load(f)\n",
    "\n",
    "\n",
    "USER = db_info['dbConnection']['USER']\n",
    "PASSWORD = db_info['dbConnection']['PASSWORD']\n",
    "URI = db_info['dbConnection']['URI']\n",
    "PORT = db_info['dbConnection']['PORT']\n",
    "DB = db_info['dbConnection']['DB']\n",
    "WEATHER_API_KEY = db_info['weatherKey']\n",
    "\n",
    "\n",
    "# Create a new session\n",
    "engine = create_engine(\n",
    "    'mysql+pymysql://{}:{}@localhost:{}/{}'.format(USER, PASSWORD, PORT, DB), echo=True)\n",
    "Base.metadata.create_all(bind=engine)\n",
    "Session = sessionmaker(bind=engine)\n",
    "session = Session()\n",
    "print(\"connected\")"
   ]
  },
  {
   "cell_type": "code",
   "execution_count": null,
   "metadata": {},
   "outputs": [],
   "source": []
  }
 ],
 "metadata": {
  "kernelspec": {
   "display_name": "comp30830_flask",
   "language": "python",
   "name": "python3"
  },
  "language_info": {
   "codemirror_mode": {
    "name": "ipython",
    "version": 3
   },
   "file_extension": ".py",
   "mimetype": "text/x-python",
   "name": "python",
   "nbconvert_exporter": "python",
   "pygments_lexer": "ipython3",
   "version": "3.11.8"
  }
 },
 "nbformat": 4,
 "nbformat_minor": 2
}
